{
 "cells": [
  {
   "cell_type": "markdown",
   "id": "0303e71b",
   "metadata": {},
   "source": [
    "# Classification Project"
   ]
  },
  {
   "cell_type": "code",
   "execution_count": 1,
   "id": "af9692c3",
   "metadata": {},
   "outputs": [],
   "source": [
    "# pip install google_play_scraper #done \n",
    "# pip install app_store_scraper\n",
    "# pip install deep_translator"
   ]
  },
  {
   "cell_type": "code",
   "execution_count": 2,
   "id": "bf2c6be5",
   "metadata": {},
   "outputs": [],
   "source": [
    "###imports###\n",
    "#script\n",
    "from app_store_scraper import AppStore\n",
    "from google_play_scraper import Sort, reviews_all, app\n",
    "#EDA\n",
    "import pandas as pd\n",
    "import numpy as np\n",
    "import seaborn as sns\n",
    "import matplotlib.pyplot as plt\n",
    "%matplotlib inline\n",
    "import re\n",
    "from langdetect import detect\n",
    "from deep_translator import GoogleTranslator, PonsTranslator, LingueeTranslator\n",
    "#ML \n",
    "from sklearn.model_selection import train_test_split\n",
    "from sklearn.feature_extraction.text import CountVectorizer\n",
    "from sklearn.linear_model import LogisticRegression\n",
    "from sklearn.metrics import accuracy_score,f1_score,recall_score,precision_score,fbeta_score,precision_recall_curve,roc_auc_score"
   ]
  },
  {
   "cell_type": "markdown",
   "id": "1b9d2d84",
   "metadata": {},
   "source": [
    "# Functions"
   ]
  },
  {
   "cell_type": "code",
   "execution_count": 3,
   "id": "9365abce",
   "metadata": {},
   "outputs": [],
   "source": [
    "## Function to translate and drop emoji \n",
    "def detect_and_translate(text,target_lang):#target_lang\n",
    "    emoji_pattern = re.compile(\"[\"\n",
    "                        u\"\\U0001F600-\\U0001F64F\"  # emoticons\n",
    "                        u\"\\U0001F300-\\U0001F5FF\"  # symbols & pictographs\n",
    "                        u\"\\U0001F680-\\U0001F6FF\"  # transport & map symbols\n",
    "                        u\"\\U0001F1E0-\\U0001F1FF\"  # flags (iOS)\n",
    "                        u\"\\U00002500-\\U00002BEF\"  # chinese char\n",
    "                        u\"\\U00002702-\\U000027B0\"\n",
    "                        u\"\\U00002702-\\U000027B0\"\n",
    "                        u\"\\U000024C2-\\U0001F251\"\n",
    "                        u\"\\U0001f926-\\U0001f937\"\n",
    "                        u\"\\U00010000-\\U0010ffff\"\n",
    "                        u\"\\u2640-\\u2642\" \n",
    "                        u\"\\u2600-\\u2B55\"\n",
    "                        u\"\\u200d\"\n",
    "                        u\"\\u23cf\"\n",
    "                        u\"\\u23e9\"\n",
    "                        u\"\\u231a\"\n",
    "                        u\"\\ufe0f\"  # dingbats\n",
    "                        u\"\\u3030\"\n",
    "                           \"]+\", flags=re.UNICODE)\n",
    "    text=emoji_pattern.sub(r' ', text)\n",
    "    result_lang = text.isascii()\n",
    "    if result_lang == True :\n",
    "        return text  \n",
    "    else :\n",
    "        translate_text=GoogleTranslator(source='auto', target='en').translate(text=text)   \n",
    "        return translate_text "
   ]
  },
  {
   "cell_type": "code",
   "execution_count": 4,
   "id": "3dab2dd8",
   "metadata": {},
   "outputs": [
    {
     "data": {
      "text/plain": [
       "'fahad fahad'"
      ]
     },
     "execution_count": 4,
     "metadata": {},
     "output_type": "execute_result"
    }
   ],
   "source": [
    "GoogleTranslator(source='auto', target='en').translate(text=\"فهد fahad\") #check the translation"
   ]
  },
  {
   "cell_type": "markdown",
   "id": "a640ef31",
   "metadata": {},
   "source": [
    "### Scraping reviews from Tawakkalna app in Apple Store"
   ]
  },
  {
   "cell_type": "code",
   "execution_count": 5,
   "id": "3bdb56aa",
   "metadata": {},
   "outputs": [],
   "source": [
    "# TWK_app = AppStore(country=\"sa\", app_name=\"Tawakkalna (Covid-19 KSA)\")\n",
    "# TWK_app"
   ]
  },
  {
   "cell_type": "markdown",
   "id": "da1393ca",
   "metadata": {},
   "source": [
    "* Convert to DataFrame and drop columns are not required"
   ]
  },
  {
   "cell_type": "code",
   "execution_count": 6,
   "id": "e537e6ab",
   "metadata": {},
   "outputs": [],
   "source": [
    "# apple_df = pd.DataFrame(np.array(TWK_app.reviews),columns=['review'])\n",
    "# apple_df = apple_df.join(pd.DataFrame(apple_df.pop('review').tolist()))\n",
    "# apple_df.drop(columns=['developerResponse','isEdited'],inplace=True)"
   ]
  },
  {
   "cell_type": "markdown",
   "id": "77a51c1a",
   "metadata": {},
   "source": [
    "* drop to concat title and review"
   ]
  },
  {
   "cell_type": "code",
   "execution_count": 7,
   "id": "f3443be0",
   "metadata": {},
   "outputs": [],
   "source": [
    "# review_df=apple_df.drop(columns=\"title\")\n",
    "# title_df=apple_df.drop(columns=\"review\")"
   ]
  },
  {
   "cell_type": "code",
   "execution_count": 8,
   "id": "4beda045",
   "metadata": {},
   "outputs": [],
   "source": [
    "# title_df.rename(columns={'title': 'review',}, inplace=True)"
   ]
  },
  {
   "cell_type": "code",
   "execution_count": 9,
   "id": "18b15827",
   "metadata": {},
   "outputs": [],
   "source": [
    "# apple_df = pd.concat([title_df,review_df ], axis=0,ignore_index=True)"
   ]
  },
  {
   "cell_type": "markdown",
   "id": "b1a434c3",
   "metadata": {},
   "source": [
    "* save as csv "
   ]
  },
  {
   "cell_type": "code",
   "execution_count": 10,
   "id": "95763b65",
   "metadata": {},
   "outputs": [],
   "source": [
    "# apple_df.to_csv(\"apple_df.csv\",index=False)"
   ]
  },
  {
   "cell_type": "code",
   "execution_count": 11,
   "id": "071b40f9",
   "metadata": {},
   "outputs": [
    {
     "name": "stdout",
     "output_type": "stream",
     "text": [
      "<class 'pandas.core.frame.DataFrame'>\n",
      "RangeIndex: 6097 entries, 0 to 6096\n",
      "Data columns (total 4 columns):\n",
      " #   Column    Non-Null Count  Dtype \n",
      "---  ------    --------------  ----- \n",
      " 0   rating    6097 non-null   int64 \n",
      " 1   review    5919 non-null   object\n",
      " 2   date      6097 non-null   object\n",
      " 3   userName  6097 non-null   object\n",
      "dtypes: int64(1), object(3)\n",
      "memory usage: 190.7+ KB\n"
     ]
    }
   ],
   "source": [
    "apple_df=pd.read_csv(\"Data/apple_df.csv\")\n",
    "apple_df.info()"
   ]
  },
  {
   "cell_type": "markdown",
   "id": "4c41cd1f",
   "metadata": {},
   "source": [
    "# Data cleaning "
   ]
  },
  {
   "cell_type": "code",
   "execution_count": 12,
   "id": "fd144a15",
   "metadata": {},
   "outputs": [
    {
     "data": {
      "text/plain": [
       "'Fahad Fahad'"
      ]
     },
     "execution_count": 12,
     "metadata": {},
     "output_type": "execute_result"
    }
   ],
   "source": [
    "detect_and_translate(\"فهد Fahad 👎🏾\",target_lang='en')"
   ]
  },
  {
   "cell_type": "code",
   "execution_count": 13,
   "id": "221a0509",
   "metadata": {},
   "outputs": [
    {
     "name": "stdout",
     "output_type": "stream",
     "text": [
      "0\n"
     ]
    }
   ],
   "source": [
    "apple_df.drop_duplicates(inplace=True)\n",
    "print(apple_df.duplicated().sum())\n",
    "\n",
    "# drop null rows\n",
    "apple_df.dropna(inplace=True)"
   ]
  },
  {
   "cell_type": "code",
   "execution_count": 14,
   "id": "d27a6505",
   "metadata": {},
   "outputs": [
    {
     "data": {
      "text/html": [
       "<div>\n",
       "<style scoped>\n",
       "    .dataframe tbody tr th:only-of-type {\n",
       "        vertical-align: middle;\n",
       "    }\n",
       "\n",
       "    .dataframe tbody tr th {\n",
       "        vertical-align: top;\n",
       "    }\n",
       "\n",
       "    .dataframe thead th {\n",
       "        text-align: right;\n",
       "    }\n",
       "</style>\n",
       "<table border=\"1\" class=\"dataframe\">\n",
       "  <thead>\n",
       "    <tr style=\"text-align: right;\">\n",
       "      <th></th>\n",
       "      <th>rating</th>\n",
       "      <th>review</th>\n",
       "      <th>date</th>\n",
       "      <th>userName</th>\n",
       "    </tr>\n",
       "  </thead>\n",
       "  <tbody>\n",
       "    <tr>\n",
       "      <th>0</th>\n",
       "      <td>4</td>\n",
       "      <td>suggestion</td>\n",
       "      <td>2021-02-05 10:14:14</td>\n",
       "      <td>r980831</td>\n",
       "    </tr>\n",
       "    <tr>\n",
       "      <th>1</th>\n",
       "      <td>1</td>\n",
       "      <td>location privacy offline suppprt</td>\n",
       "      <td>2021-08-08 21:11:24</td>\n",
       "      <td>sweatytryhard989</td>\n",
       "    </tr>\n",
       "    <tr>\n",
       "      <th>2</th>\n",
       "      <td>5</td>\n",
       "      <td>removal auto selection pfizer approval vaccina...</td>\n",
       "      <td>2021-08-09 10:48:24</td>\n",
       "      <td>Lei Davinci</td>\n",
       "    </tr>\n",
       "    <tr>\n",
       "      <th>3</th>\n",
       "      <td>4</td>\n",
       "      <td>good overall</td>\n",
       "      <td>2020-05-07 11:41:27</td>\n",
       "      <td>hadkamal</td>\n",
       "    </tr>\n",
       "    <tr>\n",
       "      <th>4</th>\n",
       "      <td>5</td>\n",
       "      <td>login log</td>\n",
       "      <td>2021-09-09 17:56:20</td>\n",
       "      <td>ebuHuda</td>\n",
       "    </tr>\n",
       "    <tr>\n",
       "      <th>...</th>\n",
       "      <td>...</td>\n",
       "      <td>...</td>\n",
       "      <td>...</td>\n",
       "      <td>...</td>\n",
       "    </tr>\n",
       "    <tr>\n",
       "      <th>6092</th>\n",
       "      <td>1</td>\n",
       "      <td>keeps giving error show jailbreak device total...</td>\n",
       "      <td>2020-05-30 20:10:36</td>\n",
       "      <td>omar.5472</td>\n",
       "    </tr>\n",
       "    <tr>\n",
       "      <th>6093</th>\n",
       "      <td>1</td>\n",
       "      <td>poor application trying login hour sends messa...</td>\n",
       "      <td>2020-05-25 11:12:16</td>\n",
       "      <td>ahsan743</td>\n",
       "    </tr>\n",
       "    <tr>\n",
       "      <th>6094</th>\n",
       "      <td>5</td>\n",
       "      <td>not able sign trying shows exempted employees ...</td>\n",
       "      <td>2020-05-13 23:44:24</td>\n",
       "      <td>ahadsatelite</td>\n",
       "    </tr>\n",
       "    <tr>\n",
       "      <th>6095</th>\n",
       "      <td>5</td>\n",
       "      <td>may god bless leadership help guide direct mis...</td>\n",
       "      <td>2021-03-25 02:56:07</td>\n",
       "      <td>علي الوقيص</td>\n",
       "    </tr>\n",
       "    <tr>\n",
       "      <th>6096</th>\n",
       "      <td>1</td>\n",
       "      <td>not open app every day end day draining battery</td>\n",
       "      <td>2021-10-02 12:24:04</td>\n",
       "      <td>Abdulaziz@91</td>\n",
       "    </tr>\n",
       "  </tbody>\n",
       "</table>\n",
       "<p>5895 rows × 4 columns</p>\n",
       "</div>"
      ],
      "text/plain": [
       "      rating                                             review  \\\n",
       "0          4                                         suggestion   \n",
       "1          1                   location privacy offline suppprt   \n",
       "2          5  removal auto selection pfizer approval vaccina...   \n",
       "3          4                                       good overall   \n",
       "4          5                                          login log   \n",
       "...      ...                                                ...   \n",
       "6092       1  keeps giving error show jailbreak device total...   \n",
       "6093       1  poor application trying login hour sends messa...   \n",
       "6094       5  not able sign trying shows exempted employees ...   \n",
       "6095       5  may god bless leadership help guide direct mis...   \n",
       "6096       1    not open app every day end day draining battery   \n",
       "\n",
       "                     date          userName  \n",
       "0     2021-02-05 10:14:14           r980831  \n",
       "1     2021-08-08 21:11:24  sweatytryhard989  \n",
       "2     2021-08-09 10:48:24       Lei Davinci  \n",
       "3     2020-05-07 11:41:27          hadkamal  \n",
       "4     2021-09-09 17:56:20           ebuHuda  \n",
       "...                   ...               ...  \n",
       "6092  2020-05-30 20:10:36         omar.5472  \n",
       "6093  2020-05-25 11:12:16          ahsan743  \n",
       "6094  2020-05-13 23:44:24      ahadsatelite  \n",
       "6095  2021-03-25 02:56:07        علي الوقيص  \n",
       "6096  2021-10-02 12:24:04      Abdulaziz@91  \n",
       "\n",
       "[5895 rows x 4 columns]"
      ]
     },
     "execution_count": 14,
     "metadata": {},
     "output_type": "execute_result"
    }
   ],
   "source": [
    "apple_df=apple_df[apple_df['review']!='٠']\n",
    "apple_df"
   ]
  },
  {
   "cell_type": "code",
   "execution_count": 15,
   "id": "3566f228",
   "metadata": {},
   "outputs": [],
   "source": [
    "#Removing numbers to translate text\n",
    "def rem_num(phrase):\n",
    "#     print(phrase)\n",
    "    return re.sub(\"\\S*\\d\\S*\", \"\", phrase).strip().replace('  ', ' ')\n",
    "apple_df.review = apple_df.review.apply(rem_num)\n"
   ]
  },
  {
   "cell_type": "code",
   "execution_count": 16,
   "id": "b95e8a41",
   "metadata": {},
   "outputs": [],
   "source": [
    "apple_df = apple_df[apple_df.review != '']"
   ]
  },
  {
   "cell_type": "code",
   "execution_count": 17,
   "id": "95ac808f",
   "metadata": {},
   "outputs": [
    {
     "data": {
      "text/plain": [
       "0                                           suggestion\n",
       "1                     location privacy offline suppprt\n",
       "2    removal auto selection pfizer approval vaccina...\n",
       "3                                         good overall\n",
       "4                                            login log\n",
       "Name: review, dtype: object"
      ]
     },
     "execution_count": 17,
     "metadata": {},
     "output_type": "execute_result"
    }
   ],
   "source": [
    "def decontracted(phrase):\n",
    "    # specific\n",
    "    \n",
    "    phrase = re.sub(r\"won't\", \"will not\", phrase)\n",
    "    phrase = re.sub(r\"can\\'t\", \"can not\", phrase)\n",
    "\n",
    "    # general\n",
    "    phrase = re.sub(r\"n\\'t\", \" not\", phrase)\n",
    "    phrase = re.sub(r\"\\'re\", \" are\", phrase)\n",
    "    phrase = re.sub(r\"\\'s\", \" is\", phrase)\n",
    "    phrase = re.sub(r\"\\'d\", \" would\", phrase)\n",
    "    phrase = re.sub(r\"\\'ll\", \" will\", phrase)\n",
    "    phrase = re.sub(r\"\\'t\", \" not\", phrase)\n",
    "    phrase = re.sub(r\"\\'ve\", \" have\", phrase)\n",
    "    phrase = re.sub(r\"\\'m\", \" am\", phrase)\n",
    "    return phrase\n",
    "apple_df.review = apple_df.review.apply(decontracted)\n",
    "\n",
    "#Removing numbers\n",
    "def rem_num(phrase):\n",
    "    return re.sub(\"\\S*\\d\\S*\", \"\", phrase).strip().replace('  ', ' ')\n",
    "apple_df.review = apple_df.review.apply(rem_num)\n",
    "\n",
    "# #Removing spacial character\n",
    "def rem_char(phrase):\n",
    "    return re.sub('[^A-Za-z]+', ' ', phrase).strip().replace('  ', ' ')\n",
    "apple_df.review = apple_df.review.apply(rem_char)\n",
    "\n",
    "#Removing html tags\n",
    "def rem_html(phrase):\n",
    "    return re.sub('[^A-Za-z]+', ' ', phrase)\n",
    "apple_df.review =  apple_df.review.apply(rem_html)\n",
    "\n",
    "apple_df.review.head()"
   ]
  },
  {
   "cell_type": "markdown",
   "id": "c9c14b66",
   "metadata": {},
   "source": [
    "### Translate"
   ]
  },
  {
   "cell_type": "code",
   "execution_count": 18,
   "id": "a090d742",
   "metadata": {},
   "outputs": [],
   "source": [
    "# newcol=[]\n",
    "# for i in apple_df.review:\n",
    "#     newcol.append(detect_and_translate(i,target_lang='en'))"
   ]
  },
  {
   "cell_type": "code",
   "execution_count": 19,
   "id": "f98dbce5",
   "metadata": {},
   "outputs": [],
   "source": [
    "# apple_df[\"review\"]=newcol"
   ]
  },
  {
   "cell_type": "markdown",
   "id": "0c9b2151",
   "metadata": {},
   "source": [
    "*"
   ]
  },
  {
   "cell_type": "code",
   "execution_count": 20,
   "id": "38f9200e",
   "metadata": {},
   "outputs": [],
   "source": [
    "#removing stop words\n",
    "stopwords= set([\n",
    "    'br', 'the', 'i', 'me', 'my', 'myself', 'we', 'our', 'ours', 'ourselves', 'you', \"you're\",\n",
    "    \"you've\", \"you'll\", \"you'd\", 'your', 'yours', 'yourself', 'yourselves', 'he', 'him', 'his',\n",
    "    'himself', 'she', \"she's\", 'her', 'hers', 'herself', 'it', \"it's\", 'its', 'itself', 'they',\n",
    "    'them', 'their', 'theirs', 'themselves', 'what', 'which', 'who', 'whom', 'this', 'that',\n",
    "    \"that'll\", 'these', 'those', 'am', 'is', 'are', 'was', 'were', 'be', 'been', 'being', 'have',\n",
    "    'has', 'had', 'having', 'do', 'does', 'did', 'doing', 'a', 'an', 'the', 'and', 'but', 'if',\n",
    "    'or', 'because', 'as', 'until', 'while', 'of', 'at', 'by', 'for', 'with', 'about', 'against',\n",
    "    'between', 'into', 'through', 'during', 'before', 'after', 'above', 'below', 'to', 'from',\n",
    "    'up', 'down', 'in', 'out', 'on', 'off', 'over', 'under', 'again', 'further', 'then', 'once',\n",
    "    'here', 'there', 'when', 'where', 'why', 'how', 'all', 'any', 'both', 'each', 'few', 'more',\n",
    "    'most', 'other', 'some', 'such', 'only', 'own', 'same', 'so', 'than', 'too', 'very', 's', 't',\n",
    "    'can', 'will', 'just', 'don', \"don't\", 'should', \"should've\", 'now', 'd', 'll', 'm', 'o', 're',\n",
    "    've', 'y', 'ain', 'aren', \"aren't\", 'couldn', \"couldn't\", 'didn', \"didn't\", 'doesn', \"doesn't\",\n",
    "    'hadn', \"hadn't\", 'hasn', \"hasn't\", 'haven', \"haven't\", 'isn', \"isn't\", 'ma', 'mightn',\n",
    "    \"mightn't\", 'mustn', \"mustn't\", 'needn', \"needn't\", 'shan', \"shan't\", 'shouldn', \"shouldn't\",\n",
    "    'wasn', \"wasn't\", 'weren', \"weren't\", 'won', \"won't\", 'wouldn', \"wouldn't\"\n",
    "    ])\n",
    "def rem_stopwords(phrase):\n",
    "    return ' '.join(e.lower() for e in phrase.split() if e.lower() not in stopwords)\n",
    "apple_df.review = apple_df.review.apply(rem_stopwords)"
   ]
  },
  {
   "cell_type": "code",
   "execution_count": 21,
   "id": "a8658371",
   "metadata": {},
   "outputs": [
    {
     "data": {
      "text/plain": [
       "<AxesSubplot:xlabel='rating', ylabel='Count'>"
      ]
     },
     "execution_count": 21,
     "metadata": {},
     "output_type": "execute_result"
    },
    {
     "data": {
      "image/png": "[encoded data removed]",
      "text/plain": [
       "<Figure size 432x288 with 1 Axes>"
      ]
     },
     "metadata": {
      "needs_background": "light"
     },
     "output_type": "display_data"
    }
   ],
   "source": [
    "sns.histplot(apple_df[\"rating\"])"
   ]
  },
  {
   "cell_type": "markdown",
   "id": "452dabf5",
   "metadata": {},
   "source": [
    "# Scraping reviews from Tawakkalna app in Google Store"
   ]
  },
  {
   "cell_type": "code",
   "execution_count": 22,
   "id": "495046b1",
   "metadata": {},
   "outputs": [],
   "source": [
    "# google_df = pd.DataFrame(np.array(google_reviews),columns=['review'])\n",
    "# google_df = google_df.join(pd.DataFrame(google_df.pop('review').tolist()))"
   ]
  },
  {
   "cell_type": "code",
   "execution_count": 23,
   "id": "6fd495db",
   "metadata": {},
   "outputs": [],
   "source": [
    "# google_df.content.dropna(inplace=True)\n",
    "# print(google_df.dropna().sum())\n",
    "\n",
    "# # drop null rows\n",
    "# google_df.dropna(inplace=True)\n",
    "# #Exclude empty reviews\n",
    "# google_df = google_df[google_df.content != '']"
   ]
  },
  {
   "cell_type": "code",
   "execution_count": 24,
   "id": "5e30b9a3",
   "metadata": {},
   "outputs": [],
   "source": [
    "# google_df.drop(columns=['content','thumbsUpCount',\"reviewCreatedVersion\"],inplace=True)"
   ]
  },
  {
   "cell_type": "code",
   "execution_count": 25,
   "id": "4a28310c",
   "metadata": {},
   "outputs": [],
   "source": [
    "# google_df.drop(columns=[\"reviewId\",\"userImage\",'replyContent','repliedAt'],inplace=True)"
   ]
  },
  {
   "cell_type": "code",
   "execution_count": 26,
   "id": "8ca8bb86",
   "metadata": {},
   "outputs": [],
   "source": [
    "# google_df.rename(columns={'at': 'date','score':'rating'}, inplace=True)"
   ]
  },
  {
   "cell_type": "code",
   "execution_count": null,
   "id": "7a92e9b3",
   "metadata": {},
   "outputs": [],
   "source": []
  },
  {
   "cell_type": "markdown",
   "id": "5d75bc62",
   "metadata": {},
   "source": [
    "## Translate"
   ]
  },
  {
   "cell_type": "code",
   "execution_count": 27,
   "id": "3ae29f59",
   "metadata": {},
   "outputs": [],
   "source": [
    "# list_g=[]\n",
    "# for i in google_df.content:\n",
    "#         list_g.append(detect_and_translate(i,target_lang='en'))"
   ]
  },
  {
   "cell_type": "code",
   "execution_count": 28,
   "id": "09cd6375",
   "metadata": {},
   "outputs": [],
   "source": [
    "# google_df[\"review\"]=list_ggg"
   ]
  },
  {
   "cell_type": "code",
   "execution_count": 29,
   "id": "bf877b81",
   "metadata": {},
   "outputs": [],
   "source": [
    "# google_df.drop(columns=['content','thumbsUpCount',\"reviewCreatedVersion\"],inplace=True)"
   ]
  },
  {
   "cell_type": "code",
   "execution_count": 30,
   "id": "6dc46897",
   "metadata": {},
   "outputs": [],
   "source": [
    "# google_df.to_csv(\"google_df.csv\",index=False)"
   ]
  },
  {
   "cell_type": "code",
   "execution_count": 31,
   "id": "9ea7d790",
   "metadata": {
    "scrolled": true
   },
   "outputs": [
    {
     "name": "stdout",
     "output_type": "stream",
     "text": [
      "<class 'pandas.core.frame.DataFrame'>\n",
      "RangeIndex: 36158 entries, 0 to 36157\n",
      "Data columns (total 4 columns):\n",
      " #   Column    Non-Null Count  Dtype \n",
      "---  ------    --------------  ----- \n",
      " 0   userName  36158 non-null  object\n",
      " 1   rating    36158 non-null  int64 \n",
      " 2   date      36158 non-null  object\n",
      " 3   review    36158 non-null  object\n",
      "dtypes: int64(1), object(3)\n",
      "memory usage: 1.1+ MB\n"
     ]
    }
   ],
   "source": [
    "google_df = pd.read_csv(\"Data/google_df.csv\")\n",
    "google_df.info()"
   ]
  },
  {
   "cell_type": "markdown",
   "id": "e6a7de88",
   "metadata": {},
   "source": [
    "# concatttttt"
   ]
  },
  {
   "cell_type": "code",
   "execution_count": 32,
   "id": "86f0d118",
   "metadata": {},
   "outputs": [],
   "source": [
    "# Data_df = pd.concat([apple_df,google_df ], axis=0,ignore_index=True)"
   ]
  },
  {
   "cell_type": "code",
   "execution_count": 33,
   "id": "dd57520f",
   "metadata": {},
   "outputs": [],
   "source": [
    "# Data_df.dropna()"
   ]
  },
  {
   "cell_type": "code",
   "execution_count": 34,
   "id": "c5aff7e0",
   "metadata": {},
   "outputs": [],
   "source": [
    "# ## to convert all review to string if any not string\n",
    "# for i in range(0,len(Data_df)-1):\n",
    "#     if type(Data_df.iloc[i]['review']) != str:\n",
    "#         Data_df.iloc[i]['review'] = str(Data_df.iloc[i]['review']) "
   ]
  },
  {
   "cell_type": "code",
   "execution_count": 35,
   "id": "dd3cd916",
   "metadata": {},
   "outputs": [],
   "source": [
    "Data_df =pd.read_csv('Data/Data_df.csv')"
   ]
  },
  {
   "cell_type": "code",
   "execution_count": 36,
   "id": "bc00513e",
   "metadata": {},
   "outputs": [],
   "source": [
    "Data_df.dropna(inplace=True)"
   ]
  },
  {
   "cell_type": "code",
   "execution_count": 37,
   "id": "2fc47b9c",
   "metadata": {},
   "outputs": [
    {
     "data": {
      "text/html": [
       "<div>\n",
       "<style scoped>\n",
       "    .dataframe tbody tr th:only-of-type {\n",
       "        vertical-align: middle;\n",
       "    }\n",
       "\n",
       "    .dataframe tbody tr th {\n",
       "        vertical-align: top;\n",
       "    }\n",
       "\n",
       "    .dataframe thead th {\n",
       "        text-align: right;\n",
       "    }\n",
       "</style>\n",
       "<table border=\"1\" class=\"dataframe\">\n",
       "  <thead>\n",
       "    <tr style=\"text-align: right;\">\n",
       "      <th></th>\n",
       "      <th>rating</th>\n",
       "      <th>review</th>\n",
       "      <th>date</th>\n",
       "      <th>userName</th>\n",
       "      <th>sentiment</th>\n",
       "      <th>all_features</th>\n",
       "    </tr>\n",
       "  </thead>\n",
       "  <tbody>\n",
       "    <tr>\n",
       "      <th>0</th>\n",
       "      <td>4</td>\n",
       "      <td>suggestion</td>\n",
       "      <td>2021-02-05 10:14:14</td>\n",
       "      <td>r980831</td>\n",
       "      <td>1</td>\n",
       "      <td>r980831 suggestion</td>\n",
       "    </tr>\n",
       "    <tr>\n",
       "      <th>1</th>\n",
       "      <td>1</td>\n",
       "      <td>location privacy offline suppprt</td>\n",
       "      <td>2021-08-08 21:11:24</td>\n",
       "      <td>sweatytryhard989</td>\n",
       "      <td>0</td>\n",
       "      <td>sweatytryhard989 location privacy offline suppprt</td>\n",
       "    </tr>\n",
       "    <tr>\n",
       "      <th>2</th>\n",
       "      <td>5</td>\n",
       "      <td>removal auto selection pfizer approval vaccina...</td>\n",
       "      <td>2021-08-09 10:48:24</td>\n",
       "      <td>Lei Davinci</td>\n",
       "      <td>1</td>\n",
       "      <td>Lei Davinci removal auto selection pfizer appr...</td>\n",
       "    </tr>\n",
       "    <tr>\n",
       "      <th>3</th>\n",
       "      <td>4</td>\n",
       "      <td>good overall</td>\n",
       "      <td>2020-05-07 11:41:27</td>\n",
       "      <td>hadkamal</td>\n",
       "      <td>1</td>\n",
       "      <td>hadkamal good overall</td>\n",
       "    </tr>\n",
       "    <tr>\n",
       "      <th>4</th>\n",
       "      <td>5</td>\n",
       "      <td>login log</td>\n",
       "      <td>2021-09-09 17:56:20</td>\n",
       "      <td>ebuHuda</td>\n",
       "      <td>1</td>\n",
       "      <td>ebuHuda login log</td>\n",
       "    </tr>\n",
       "    <tr>\n",
       "      <th>...</th>\n",
       "      <td>...</td>\n",
       "      <td>...</td>\n",
       "      <td>...</td>\n",
       "      <td>...</td>\n",
       "      <td>...</td>\n",
       "      <td>...</td>\n",
       "    </tr>\n",
       "    <tr>\n",
       "      <th>40355</th>\n",
       "      <td>2</td>\n",
       "      <td>Not working I can not register and I received ...</td>\n",
       "      <td>2020-04-12 12:33:41</td>\n",
       "      <td>Ramy Mohamed</td>\n",
       "      <td>0</td>\n",
       "      <td>Ramy Mohamed Not working I can not register an...</td>\n",
       "    </tr>\n",
       "    <tr>\n",
       "      <th>40356</th>\n",
       "      <td>1</td>\n",
       "      <td>The program does not work with my device Samsu...</td>\n",
       "      <td>2020-04-11 14:26:39</td>\n",
       "      <td>Ismael Khan</td>\n",
       "      <td>0</td>\n",
       "      <td>Ismael Khan The program does not work with my ...</td>\n",
       "    </tr>\n",
       "    <tr>\n",
       "      <th>40357</th>\n",
       "      <td>1</td>\n",
       "      <td>I can not even register Keeps saying something...</td>\n",
       "      <td>2020-04-11 00:18:07</td>\n",
       "      <td>Ali Khalid</td>\n",
       "      <td>0</td>\n",
       "      <td>Ali Khalid I can not even register Keeps sayin...</td>\n",
       "    </tr>\n",
       "    <tr>\n",
       "      <th>40358</th>\n",
       "      <td>5</td>\n",
       "      <td>Excellent and may God grant you success but wh...</td>\n",
       "      <td>2020-04-09 17:56:37</td>\n",
       "      <td>Abdullateef Addajani</td>\n",
       "      <td>1</td>\n",
       "      <td>Abdullateef Addajani Excellent and may God gra...</td>\n",
       "    </tr>\n",
       "    <tr>\n",
       "      <th>40359</th>\n",
       "      <td>5</td>\n",
       "      <td>Perfect</td>\n",
       "      <td>2020-04-09 11:16:59</td>\n",
       "      <td>NaSSeR AlQahtani</td>\n",
       "      <td>1</td>\n",
       "      <td>NaSSeR AlQahtani Perfect</td>\n",
       "    </tr>\n",
       "  </tbody>\n",
       "</table>\n",
       "<p>40187 rows × 6 columns</p>\n",
       "</div>"
      ],
      "text/plain": [
       "       rating                                             review  \\\n",
       "0           4                                         suggestion   \n",
       "1           1                   location privacy offline suppprt   \n",
       "2           5  removal auto selection pfizer approval vaccina...   \n",
       "3           4                                       good overall   \n",
       "4           5                                          login log   \n",
       "...       ...                                                ...   \n",
       "40355       2  Not working I can not register and I received ...   \n",
       "40356       1  The program does not work with my device Samsu...   \n",
       "40357       1  I can not even register Keeps saying something...   \n",
       "40358       5  Excellent and may God grant you success but wh...   \n",
       "40359       5                                            Perfect   \n",
       "\n",
       "                      date              userName  sentiment  \\\n",
       "0      2021-02-05 10:14:14               r980831          1   \n",
       "1      2021-08-08 21:11:24      sweatytryhard989          0   \n",
       "2      2021-08-09 10:48:24           Lei Davinci          1   \n",
       "3      2020-05-07 11:41:27              hadkamal          1   \n",
       "4      2021-09-09 17:56:20               ebuHuda          1   \n",
       "...                    ...                   ...        ...   \n",
       "40355  2020-04-12 12:33:41          Ramy Mohamed          0   \n",
       "40356  2020-04-11 14:26:39           Ismael Khan          0   \n",
       "40357  2020-04-11 00:18:07            Ali Khalid          0   \n",
       "40358  2020-04-09 17:56:37  Abdullateef Addajani          1   \n",
       "40359  2020-04-09 11:16:59      NaSSeR AlQahtani          1   \n",
       "\n",
       "                                            all_features  \n",
       "0                                     r980831 suggestion  \n",
       "1      sweatytryhard989 location privacy offline suppprt  \n",
       "2      Lei Davinci removal auto selection pfizer appr...  \n",
       "3                                  hadkamal good overall  \n",
       "4                                      ebuHuda login log  \n",
       "...                                                  ...  \n",
       "40355  Ramy Mohamed Not working I can not register an...  \n",
       "40356  Ismael Khan The program does not work with my ...  \n",
       "40357  Ali Khalid I can not even register Keeps sayin...  \n",
       "40358  Abdullateef Addajani Excellent and may God gra...  \n",
       "40359                           NaSSeR AlQahtani Perfect  \n",
       "\n",
       "[40187 rows x 6 columns]"
      ]
     },
     "execution_count": 37,
     "metadata": {},
     "output_type": "execute_result"
    }
   ],
   "source": [
    "def decontracted(phrase):\n",
    "    # specific\n",
    "    \n",
    "    phrase = re.sub(r\"won't\", \"will not\", phrase)\n",
    "    phrase = re.sub(r\"can\\'t\", \"can not\", phrase)\n",
    "\n",
    "    # general\n",
    "    phrase = re.sub(r\"n\\'t\", \" not\", phrase)\n",
    "    phrase = re.sub(r\"\\'re\", \" are\", phrase)\n",
    "    phrase = re.sub(r\"\\'s\", \" is\", phrase)\n",
    "    phrase = re.sub(r\"\\'d\", \" would\", phrase)\n",
    "    phrase = re.sub(r\"\\'ll\", \" will\", phrase)\n",
    "    phrase = re.sub(r\"\\'t\", \" not\", phrase)\n",
    "    phrase = re.sub(r\"\\'ve\", \" have\", phrase)\n",
    "    phrase = re.sub(r\"\\'m\", \" am\", phrase)\n",
    "    return phrase\n",
    "Data_df.review = Data_df.review.apply(decontracted)\n",
    "\n",
    "#Removing numbers\n",
    "def rem_num(phrase):\n",
    "    return re.sub(\"\\S*\\d\\S*\", \"\", phrase).strip().replace('  ', ' ')\n",
    "Data_df.review = Data_df.review.apply(rem_num)\n",
    "\n",
    "#Removing spacial character\n",
    "def rem_char(phrase):\n",
    "    return re.sub('[^A-Za-z]+', ' ', phrase).strip().replace('  ', ' ')\n",
    "Data_df.review = Data_df.review.apply(rem_char)\n",
    "\n",
    "#Removing html tags\n",
    "def rem_html(phrase):\n",
    "    return re.sub('[^A-Za-z]+', ' ', phrase)\n",
    "Data_df.review =  Data_df.review.apply(rem_html)\n",
    "\n",
    "Data_df"
   ]
  },
  {
   "cell_type": "code",
   "execution_count": 38,
   "id": "6adc8fd3",
   "metadata": {},
   "outputs": [],
   "source": [
    "def rem_stopwords(phrase):\n",
    "    return ' '.join(e.lower() for e in phrase.split() if e.lower() not in stopwords)\n",
    "Data_df.review = Data_df.review.apply(rem_stopwords)"
   ]
  },
  {
   "cell_type": "code",
   "execution_count": 39,
   "id": "63dd3c3a",
   "metadata": {},
   "outputs": [],
   "source": [
    "Data_df.date = pd.to_datetime(Data_df['date'], format='%Y-%m-%d %H:%M:%S.%f')"
   ]
  },
  {
   "cell_type": "code",
   "execution_count": 40,
   "id": "52359151",
   "metadata": {},
   "outputs": [],
   "source": [
    "Data_df.sort_values(by='date',inplace=True)"
   ]
  },
  {
   "cell_type": "code",
   "execution_count": 41,
   "id": "c73cf2e4",
   "metadata": {},
   "outputs": [
    {
     "data": {
      "text/html": [
       "<div>\n",
       "<style scoped>\n",
       "    .dataframe tbody tr th:only-of-type {\n",
       "        vertical-align: middle;\n",
       "    }\n",
       "\n",
       "    .dataframe tbody tr th {\n",
       "        vertical-align: top;\n",
       "    }\n",
       "\n",
       "    .dataframe thead th {\n",
       "        text-align: right;\n",
       "    }\n",
       "</style>\n",
       "<table border=\"1\" class=\"dataframe\">\n",
       "  <thead>\n",
       "    <tr style=\"text-align: right;\">\n",
       "      <th></th>\n",
       "      <th>rating</th>\n",
       "      <th>review</th>\n",
       "      <th>date</th>\n",
       "      <th>userName</th>\n",
       "      <th>sentiment</th>\n",
       "      <th>all_features</th>\n",
       "    </tr>\n",
       "  </thead>\n",
       "  <tbody>\n",
       "    <tr>\n",
       "      <th>120</th>\n",
       "      <td>5</td>\n",
       "      <td>effective solution</td>\n",
       "      <td>2020-04-07 00:37:23</td>\n",
       "      <td>Mohamed Albitar</td>\n",
       "      <td>1</td>\n",
       "      <td>Mohamed Albitar effective solution</td>\n",
       "    </tr>\n",
       "    <tr>\n",
       "      <th>3012</th>\n",
       "      <td>5</td>\n",
       "      <td>super user friendly thank effective solution</td>\n",
       "      <td>2020-04-07 00:37:23</td>\n",
       "      <td>Mohamed Albitar</td>\n",
       "      <td>1</td>\n",
       "      <td>Mohamed Albitar super user friendly thank effe...</td>\n",
       "    </tr>\n",
       "    <tr>\n",
       "      <th>5628</th>\n",
       "      <td>1</td>\n",
       "      <td>cannot log create new account enter absher acc...</td>\n",
       "      <td>2020-04-07 03:34:24</td>\n",
       "      <td>majeed..</td>\n",
       "      <td>0</td>\n",
       "      <td>majeed.. cannot log create new account enter a...</td>\n",
       "    </tr>\n",
       "    <tr>\n",
       "      <th>2816</th>\n",
       "      <td>1</td>\n",
       "      <td>app not working</td>\n",
       "      <td>2020-04-07 03:34:24</td>\n",
       "      <td>majeed..</td>\n",
       "      <td>0</td>\n",
       "      <td>majeed.. app not working</td>\n",
       "    </tr>\n",
       "    <tr>\n",
       "      <th>2815</th>\n",
       "      <td>1</td>\n",
       "      <td>not register</td>\n",
       "      <td>2020-04-07 06:56:22</td>\n",
       "      <td>محمود مروان</td>\n",
       "      <td>0</td>\n",
       "      <td>محمود مروان not register</td>\n",
       "    </tr>\n",
       "    <tr>\n",
       "      <th>...</th>\n",
       "      <td>...</td>\n",
       "      <td>...</td>\n",
       "      <td>...</td>\n",
       "      <td>...</td>\n",
       "      <td>...</td>\n",
       "      <td>...</td>\n",
       "    </tr>\n",
       "    <tr>\n",
       "      <th>3697</th>\n",
       "      <td>1</td>\n",
       "      <td>application whole closed closed entered exit r...</td>\n",
       "      <td>2021-10-01 23:52:28</td>\n",
       "      <td>Rawan__c</td>\n",
       "      <td>0</td>\n",
       "      <td>Rawan__c application whole closed closed enter...</td>\n",
       "    </tr>\n",
       "    <tr>\n",
       "      <th>811</th>\n",
       "      <td>5</td>\n",
       "      <td>speak arabic</td>\n",
       "      <td>2021-10-02 04:13:28</td>\n",
       "      <td>ديمووون</td>\n",
       "      <td>1</td>\n",
       "      <td>ديمووون speak arabic</td>\n",
       "    </tr>\n",
       "    <tr>\n",
       "      <th>3686</th>\n",
       "      <td>5</td>\n",
       "      <td>premise english comments wrong program not</td>\n",
       "      <td>2021-10-02 04:13:28</td>\n",
       "      <td>ديمووون</td>\n",
       "      <td>1</td>\n",
       "      <td>ديمووون premise english comments wrong program...</td>\n",
       "    </tr>\n",
       "    <tr>\n",
       "      <th>2891</th>\n",
       "      <td>1</td>\n",
       "      <td>consumes battery</td>\n",
       "      <td>2021-10-02 12:24:04</td>\n",
       "      <td>Abdulaziz@91</td>\n",
       "      <td>0</td>\n",
       "      <td>Abdulaziz@91 consumes battery</td>\n",
       "    </tr>\n",
       "    <tr>\n",
       "      <th>5691</th>\n",
       "      <td>1</td>\n",
       "      <td>not open app every day end day draining battery</td>\n",
       "      <td>2021-10-02 12:24:04</td>\n",
       "      <td>Abdulaziz@91</td>\n",
       "      <td>0</td>\n",
       "      <td>Abdulaziz@91 not open app every day end day dr...</td>\n",
       "    </tr>\n",
       "  </tbody>\n",
       "</table>\n",
       "<p>40187 rows × 6 columns</p>\n",
       "</div>"
      ],
      "text/plain": [
       "      rating                                             review  \\\n",
       "120        5                                 effective solution   \n",
       "3012       5       super user friendly thank effective solution   \n",
       "5628       1  cannot log create new account enter absher acc...   \n",
       "2816       1                                    app not working   \n",
       "2815       1                                       not register   \n",
       "...      ...                                                ...   \n",
       "3697       1  application whole closed closed entered exit r...   \n",
       "811        5                                       speak arabic   \n",
       "3686       5         premise english comments wrong program not   \n",
       "2891       1                                   consumes battery   \n",
       "5691       1    not open app every day end day draining battery   \n",
       "\n",
       "                    date         userName  sentiment  \\\n",
       "120  2020-04-07 00:37:23  Mohamed Albitar          1   \n",
       "3012 2020-04-07 00:37:23  Mohamed Albitar          1   \n",
       "5628 2020-04-07 03:34:24         majeed..          0   \n",
       "2816 2020-04-07 03:34:24         majeed..          0   \n",
       "2815 2020-04-07 06:56:22      محمود مروان          0   \n",
       "...                  ...              ...        ...   \n",
       "3697 2021-10-01 23:52:28         Rawan__c          0   \n",
       "811  2021-10-02 04:13:28          ديمووون          1   \n",
       "3686 2021-10-02 04:13:28          ديمووون          1   \n",
       "2891 2021-10-02 12:24:04     Abdulaziz@91          0   \n",
       "5691 2021-10-02 12:24:04     Abdulaziz@91          0   \n",
       "\n",
       "                                           all_features  \n",
       "120                  Mohamed Albitar effective solution  \n",
       "3012  Mohamed Albitar super user friendly thank effe...  \n",
       "5628  majeed.. cannot log create new account enter a...  \n",
       "2816                           majeed.. app not working  \n",
       "2815                           محمود مروان not register  \n",
       "...                                                 ...  \n",
       "3697  Rawan__c application whole closed closed enter...  \n",
       "811                                ديمووون speak arabic  \n",
       "3686  ديمووون premise english comments wrong program...  \n",
       "2891                      Abdulaziz@91 consumes battery  \n",
       "5691  Abdulaziz@91 not open app every day end day dr...  \n",
       "\n",
       "[40187 rows x 6 columns]"
      ]
     },
     "execution_count": 41,
     "metadata": {},
     "output_type": "execute_result"
    }
   ],
   "source": [
    "Data_df"
   ]
  },
  {
   "cell_type": "code",
   "execution_count": 42,
   "id": "6c380699",
   "metadata": {},
   "outputs": [],
   "source": [
    "# Data_df = Data_df[Data_df['rating'] != 3]\n",
    "# Data_df"
   ]
  },
  {
   "cell_type": "code",
   "execution_count": 43,
   "id": "62b428be",
   "metadata": {},
   "outputs": [
    {
     "data": {
      "text/html": [
       "<div>\n",
       "<style scoped>\n",
       "    .dataframe tbody tr th:only-of-type {\n",
       "        vertical-align: middle;\n",
       "    }\n",
       "\n",
       "    .dataframe tbody tr th {\n",
       "        vertical-align: top;\n",
       "    }\n",
       "\n",
       "    .dataframe thead th {\n",
       "        text-align: right;\n",
       "    }\n",
       "</style>\n",
       "<table border=\"1\" class=\"dataframe\">\n",
       "  <thead>\n",
       "    <tr style=\"text-align: right;\">\n",
       "      <th></th>\n",
       "      <th>rating</th>\n",
       "      <th>review</th>\n",
       "      <th>date</th>\n",
       "      <th>userName</th>\n",
       "      <th>sentiment</th>\n",
       "      <th>all_features</th>\n",
       "    </tr>\n",
       "  </thead>\n",
       "  <tbody>\n",
       "    <tr>\n",
       "      <th>120</th>\n",
       "      <td>5</td>\n",
       "      <td>effective solution</td>\n",
       "      <td>2020-04-07 00:37:23</td>\n",
       "      <td>Mohamed Albitar</td>\n",
       "      <td>0</td>\n",
       "      <td>Mohamed Albitar effective solution</td>\n",
       "    </tr>\n",
       "    <tr>\n",
       "      <th>3012</th>\n",
       "      <td>5</td>\n",
       "      <td>super user friendly thank effective solution</td>\n",
       "      <td>2020-04-07 00:37:23</td>\n",
       "      <td>Mohamed Albitar</td>\n",
       "      <td>0</td>\n",
       "      <td>Mohamed Albitar super user friendly thank effe...</td>\n",
       "    </tr>\n",
       "    <tr>\n",
       "      <th>5628</th>\n",
       "      <td>1</td>\n",
       "      <td>cannot log create new account enter absher acc...</td>\n",
       "      <td>2020-04-07 03:34:24</td>\n",
       "      <td>majeed..</td>\n",
       "      <td>1</td>\n",
       "      <td>majeed.. cannot log create new account enter a...</td>\n",
       "    </tr>\n",
       "    <tr>\n",
       "      <th>2816</th>\n",
       "      <td>1</td>\n",
       "      <td>app not working</td>\n",
       "      <td>2020-04-07 03:34:24</td>\n",
       "      <td>majeed..</td>\n",
       "      <td>1</td>\n",
       "      <td>majeed.. app not working</td>\n",
       "    </tr>\n",
       "    <tr>\n",
       "      <th>2815</th>\n",
       "      <td>1</td>\n",
       "      <td>not register</td>\n",
       "      <td>2020-04-07 06:56:22</td>\n",
       "      <td>محمود مروان</td>\n",
       "      <td>1</td>\n",
       "      <td>محمود مروان not register</td>\n",
       "    </tr>\n",
       "  </tbody>\n",
       "</table>\n",
       "</div>"
      ],
      "text/plain": [
       "      rating                                             review  \\\n",
       "120        5                                 effective solution   \n",
       "3012       5       super user friendly thank effective solution   \n",
       "5628       1  cannot log create new account enter absher acc...   \n",
       "2816       1                                    app not working   \n",
       "2815       1                                       not register   \n",
       "\n",
       "                    date         userName  sentiment  \\\n",
       "120  2020-04-07 00:37:23  Mohamed Albitar          0   \n",
       "3012 2020-04-07 00:37:23  Mohamed Albitar          0   \n",
       "5628 2020-04-07 03:34:24         majeed..          1   \n",
       "2816 2020-04-07 03:34:24         majeed..          1   \n",
       "2815 2020-04-07 06:56:22      محمود مروان          1   \n",
       "\n",
       "                                           all_features  \n",
       "120                  Mohamed Albitar effective solution  \n",
       "3012  Mohamed Albitar super user friendly thank effe...  \n",
       "5628  majeed.. cannot log create new account enter a...  \n",
       "2816                           majeed.. app not working  \n",
       "2815                           محمود مروان not register  "
      ]
     },
     "execution_count": 43,
     "metadata": {},
     "output_type": "execute_result"
    }
   ],
   "source": [
    "def sentiment(n):\n",
    "    return 0 if n >= 4 else 1\n",
    "Data_df['sentiment'] = Data_df['rating'].apply(sentiment)\n",
    "Data_df.head()"
   ]
  },
  {
   "cell_type": "code",
   "execution_count": 44,
   "id": "2310e88f",
   "metadata": {},
   "outputs": [],
   "source": [
    "#Data_df.to_csv(\"Data_df.csv\",index=False)"
   ]
  },
  {
   "cell_type": "code",
   "execution_count": 45,
   "id": "289d0ed9",
   "metadata": {},
   "outputs": [],
   "source": [
    "# Data_df =pd.read_csv('Data/Data_df.csv')"
   ]
  },
  {
   "cell_type": "code",
   "execution_count": 46,
   "id": "07a4a62f",
   "metadata": {},
   "outputs": [
    {
     "data": {
      "text/plain": [
       "0    28916\n",
       "1    11271\n",
       "Name: sentiment, dtype: int64"
      ]
     },
     "execution_count": 46,
     "metadata": {},
     "output_type": "execute_result"
    }
   ],
   "source": [
    "Data_df.sentiment.value_counts()"
   ]
  },
  {
   "cell_type": "code",
   "execution_count": 47,
   "id": "b812a85a",
   "metadata": {},
   "outputs": [],
   "source": [
    "Data_df1=Data_df.copy()"
   ]
  },
  {
   "cell_type": "code",
   "execution_count": 48,
   "id": "d867783b",
   "metadata": {},
   "outputs": [
    {
     "name": "stderr",
     "output_type": "stream",
     "text": [
      "C:\\Users\\Fahad-MSi\\anaconda3\\lib\\site-packages\\seaborn\\_decorators.py:36: FutureWarning: Pass the following variable as a keyword arg: x. From version 0.12, the only valid positional argument will be `data`, and passing other arguments without an explicit keyword will result in an error or misinterpretation.\n",
      "  warnings.warn(\n"
     ]
    },
    {
     "data": {
      "image/png": "[encoded data removed]",
      "text/plain": [
       "<Figure size 576x288 with 1 Axes>"
      ]
     },
     "metadata": {
      "needs_background": "light"
     },
     "output_type": "display_data"
    }
   ],
   "source": [
    "#2. distribution of target variable.\n",
    "plt.figure(figsize = [8,4])\n",
    "sns.countplot(Data_df1['sentiment'],palette=['#09725D',\"#119E8E\"])\n",
    "\n",
    "# Add labels\n",
    "\n",
    "plt.title('imbalance data', fontsize = 14, weight = 'bold')\n",
    "plt.xlabel('Sentiment', fontsize = 14, weight = 'bold')\n",
    "plt.ylabel('review count', fontsize = 14, weight = 'bold')\n",
    "sns.set_style(\"darkgrid\")"
   ]
  },
  {
   "cell_type": "code",
   "execution_count": 49,
   "id": "7abae400",
   "metadata": {},
   "outputs": [
    {
     "name": "stderr",
     "output_type": "stream",
     "text": [
      "<ipython-input-49-1d1f2eee9eef>:1: SettingWithCopyWarning: \n",
      "A value is trying to be set on a copy of a slice from a DataFrame\n",
      "\n",
      "See the caveats in the documentation: https://pandas.pydata.org/pandas-docs/stable/user_guide/indexing.html#returning-a-view-versus-a-copy\n",
      "  Data_df.sentiment[Data_df.sentiment == 0 ] = Data_df.sentiment[Data_df.sentiment == 0 ].iloc[:len(Data_df.sentiment[(Data_df.sentiment == 1)])]\n"
     ]
    }
   ],
   "source": [
    "Data_df.sentiment[Data_df.sentiment == 0 ] = Data_df.sentiment[Data_df.sentiment == 0 ].iloc[:len(Data_df.sentiment[(Data_df.sentiment == 1)])]"
   ]
  },
  {
   "cell_type": "code",
   "execution_count": 50,
   "id": "020f5705",
   "metadata": {},
   "outputs": [],
   "source": [
    "Data_df.dropna(inplace=True)"
   ]
  },
  {
   "cell_type": "code",
   "execution_count": 51,
   "id": "a07bf073",
   "metadata": {
    "scrolled": true
   },
   "outputs": [
    {
     "data": {
      "text/plain": [
       "0.0    11271\n",
       "1.0    11271\n",
       "Name: sentiment, dtype: int64"
      ]
     },
     "execution_count": 51,
     "metadata": {},
     "output_type": "execute_result"
    }
   ],
   "source": [
    "Data_df.sentiment.value_counts()"
   ]
  },
  {
   "cell_type": "code",
   "execution_count": 52,
   "id": "61bfd8ab",
   "metadata": {},
   "outputs": [],
   "source": [
    "Data_df.reset_index(inplace=True)"
   ]
  },
  {
   "cell_type": "code",
   "execution_count": 53,
   "id": "3a597fe1",
   "metadata": {},
   "outputs": [
    {
     "name": "stderr",
     "output_type": "stream",
     "text": [
      "C:\\Users\\Fahad-MSi\\anaconda3\\lib\\site-packages\\seaborn\\_decorators.py:36: FutureWarning: Pass the following variable as a keyword arg: x. From version 0.12, the only valid positional argument will be `data`, and passing other arguments without an explicit keyword will result in an error or misinterpretation.\n",
      "  warnings.warn(\n"
     ]
    },
    {
     "data": {
      "text/plain": [
       "Text(0, 0.5, 'review count')"
      ]
     },
     "execution_count": 53,
     "metadata": {},
     "output_type": "execute_result"
    },
    {
     "data": {
      "image/png": "[encoded data removed]",
      "text/plain": [
       "<Figure size 576x288 with 1 Axes>"
      ]
     },
     "metadata": {},
     "output_type": "display_data"
    }
   ],
   "source": [
    "#2. distribution of target variable.\n",
    "plt.figure(figsize = [8,4])\n",
    "sns.countplot(Data_df['sentiment'],palette=['#09725D',\"#119E8E\"])\n",
    "\n",
    "\n",
    "# Add labels\n",
    "plt.title('balanced data', fontsize = 14, weight = 'bold')\n",
    "plt.xlabel('Sentiment', fontsize = 14, weight = 'bold')\n",
    "plt.ylabel('review count', fontsize = 14, weight = 'bold')\n"
   ]
  },
  {
   "cell_type": "markdown",
   "id": "9026b5b2",
   "metadata": {},
   "source": [
    "# model"
   ]
  },
  {
   "cell_type": "code",
   "execution_count": 142,
   "id": "db0f08d1",
   "metadata": {},
   "outputs": [],
   "source": [
    "X = Data_df['review']\n",
    "y = Data_df['sentiment']"
   ]
  },
  {
   "cell_type": "code",
   "execution_count": 143,
   "id": "4d6b4e1f",
   "metadata": {},
   "outputs": [],
   "source": [
    "# split\n",
    "X_train, X_test, y_train, y_test = train_test_split(X, y, test_size=0.2,random_state=45)\n",
    "X_train, X_val, y_train, y_val = train_test_split(X_train, y_train, test_size=0.25,random_state=45)"
   ]
  },
  {
   "cell_type": "code",
   "execution_count": 144,
   "id": "846ab555",
   "metadata": {},
   "outputs": [],
   "source": [
    "##frequency for word\n",
    "cv = CountVectorizer(stop_words='english')\n",
    "X_train_T = cv.fit_transform(X_train)\n",
    "X_val_T = cv.transform(X_val)\n",
    "X_test_T = cv.transform(X_test)"
   ]
  },
  {
   "cell_type": "code",
   "execution_count": 145,
   "id": "321184e0",
   "metadata": {},
   "outputs": [
    {
     "data": {
      "text/plain": [
       "LogisticRegression()"
      ]
     },
     "execution_count": 145,
     "metadata": {},
     "output_type": "execute_result"
    }
   ],
   "source": [
    "lr = LogisticRegression()\n",
    "lr.fit(X_train_T, y_train)"
   ]
  },
  {
   "cell_type": "code",
   "execution_count": 146,
   "id": "f7922b2e",
   "metadata": {
    "scrolled": false
   },
   "outputs": [
    {
     "name": "stdout",
     "output_type": "stream",
     "text": [
      "Accuracy Train = 0.90195\n",
      "Accuracy Val = 0.84254\n",
      "Accuracy Test = 0.83832\n",
      "-------------------------\n",
      "F1 Train = 0.89944\n",
      "F1 Val = 0.83908\n",
      "F1 Test = 0.84217\n",
      "-------------------------\n",
      "recall Train = 0.87930\n",
      "recall Val = 0.83266\n",
      "recall Test = 0.84418\n",
      "-------------------------\n",
      "precision Train = 0.92052\n",
      "precision Val = 0.84559\n",
      "precision Test = 0.84017\n",
      "-------------------------\n",
      "F2 Train = 0.88725\n",
      "F2 Val = 0.83521\n",
      "F2 Test = 0.84338\n"
     ]
    }
   ],
   "source": [
    "# LogisticRegression #Accuracy\n",
    "print(\"Accuracy Train = {:6.5f}\".format(accuracy_score(y_train, lr.predict(X_train_T))))\n",
    "print(\"Accuracy Val = {:6.5f}\".format(accuracy_score(y_val, lr.predict(X_val_T))))\n",
    "print(\"Accuracy Test = {:6.5f}\".format(accuracy_score(y_test, lr.predict(X_test_T))))\n",
    "\n",
    "print(\"-------------------------\")\n",
    "# LogisticRegression F1\n",
    "print(\"F1 Train = {:6.5f}\".format(f1_score(y_train, lr.predict(X_train_T))))\n",
    "print(\"F1 Val = {:6.5f}\".format(f1_score(y_val, lr.predict(X_val_T))))\n",
    "print(\"F1 Test = {:6.5f}\".format(f1_score(y_test, lr.predict(X_test_T))))\n",
    "print(\"-------------------------\")\n",
    "# LogisticRegression recall\n",
    "print(\"recall Train = {:6.5f}\".format(recall_score(y_train, lr.predict(X_train_T))))\n",
    "print(\"recall Val = {:6.5f}\".format(recall_score(y_val, lr.predict(X_val_T))))\n",
    "print(\"recall Test = {:6.5f}\".format(recall_score(y_test, lr.predict(X_test_T))))\n",
    "print(\"-------------------------\")\n",
    "# LogisticRegression precision\n",
    "print(\"precision Train = {:6.5f}\".format(precision_score(y_train, lr.predict(X_train_T))))\n",
    "print(\"precision Val = {:6.5f}\".format(precision_score(y_val, lr.predict(X_val_T))))\n",
    "print(\"precision Test = {:6.5f}\".format(precision_score(y_test, lr.predict(X_test_T))))\n",
    "print(\"-------------------------\")\n",
    "# LogisticRegression f2\n",
    "print(\"F2 Train = {:6.5f}\".format(fbeta_score(y_train, lr.predict(X_train_T),beta=2)))\n",
    "print(\"F2 Val = {:6.5f}\".format(fbeta_score(y_val, lr.predict(X_val_T),beta=2)))\n",
    "print(\"F2 Test = {:6.5f}\".format(fbeta_score(y_test, lr.predict(X_test_T),beta=2)))"
   ]
  },
  {
   "cell_type": "code",
   "execution_count": 152,
   "id": "6b32f9c3",
   "metadata": {
    "scrolled": true
   },
   "outputs": [
    {
     "ename": "NameError",
     "evalue": "name 'text' is not defined",
     "output_type": "error",
     "traceback": [
      "\u001b[1;31m---------------------------------------------------------------------------\u001b[0m",
      "\u001b[1;31mNameError\u001b[0m                                 Traceback (most recent call last)",
      "\u001b[1;32m<ipython-input-152-aa785adca3fc>\u001b[0m in \u001b[0;36m<module>\u001b[1;34m\u001b[0m\n\u001b[1;32m----> 1\u001b[1;33m \u001b[0mtext\u001b[0m\u001b[1;33m\u001b[0m\u001b[1;33m\u001b[0m\u001b[0m\n\u001b[0m",
      "\u001b[1;31mNameError\u001b[0m: name 'text' is not defined"
     ]
    }
   ],
   "source": [
    "text"
   ]
  },
  {
   "cell_type": "code",
   "execution_count": 160,
   "id": "50b9ac3d",
   "metadata": {},
   "outputs": [
    {
     "name": "stdout",
     "output_type": "stream",
     "text": [
      "We are very sorry to know that you had a bad experience, we will work to fix the problem\n"
     ]
    }
   ],
   "source": [
    "#test the text\n",
    "text = 'this application needs update'\n",
    "df_pred = pd.Series(text)\n",
    "df_pred = cv.transform(df_pred)\n",
    "testcode=int(lr.predict(df_pred))\n",
    "if testcode == 1 :\n",
    "    print(\"We are very sorry to know that you had a bad experience, we will work to fix the problem\")\n",
    "else:\n",
    "    print(\"Thank you for the review\")"
   ]
  },
  {
   "cell_type": "code",
   "execution_count": 161,
   "id": "0c5621f4",
   "metadata": {},
   "outputs": [
    {
     "name": "stdout",
     "output_type": "stream",
     "text": [
      "Thank you for the review\n"
     ]
    }
   ],
   "source": [
    "#test the text\n",
    "text = 'this good application'\n",
    "df_pred = pd.Series(text)\n",
    "df_pred = cv.transform(df_pred)\n",
    "testcode=int(lr.predict(df_pred))\n",
    "if testcode == 1 :\n",
    "    print(\"We are very sorry to know that you had a bad experience, we will work to fix the problem\")\n",
    "else:\n",
    "    print(\"Thank you for the review\")"
   ]
  },
  {
   "cell_type": "code",
   "execution_count": null,
   "id": "180455f8",
   "metadata": {},
   "outputs": [],
   "source": []
  },
  {
   "cell_type": "code",
   "execution_count": null,
   "id": "36eaf43e",
   "metadata": {},
   "outputs": [],
   "source": []
  },
  {
   "cell_type": "code",
   "execution_count": null,
   "id": "a754351a",
   "metadata": {},
   "outputs": [],
   "source": []
  },
  {
   "cell_type": "code",
   "execution_count": 60,
   "id": "5f342ecb",
   "metadata": {},
   "outputs": [],
   "source": [
    "from sklearn.feature_extraction.text import TfidfVectorizer,CountVectorizer,TfidfTransformer"
   ]
  },
  {
   "cell_type": "code",
   "execution_count": 61,
   "id": "11b6fae9",
   "metadata": {},
   "outputs": [
    {
     "data": {
      "text/plain": [
       "TfidfTransformer()"
      ]
     },
     "execution_count": 61,
     "metadata": {},
     "output_type": "execute_result"
    }
   ],
   "source": [
    "tfidf_transformer=TfidfTransformer(smooth_idf=True,use_idf=True) \n",
    "tfidf_transformer.fit(X_train_T)"
   ]
  },
  {
   "cell_type": "code",
   "execution_count": 62,
   "id": "b731d0c2",
   "metadata": {},
   "outputs": [
    {
     "data": {
      "text/html": [
       "<div>\n",
       "<style scoped>\n",
       "    .dataframe tbody tr th:only-of-type {\n",
       "        vertical-align: middle;\n",
       "    }\n",
       "\n",
       "    .dataframe tbody tr th {\n",
       "        vertical-align: top;\n",
       "    }\n",
       "\n",
       "    .dataframe thead th {\n",
       "        text-align: right;\n",
       "    }\n",
       "</style>\n",
       "<table border=\"1\" class=\"dataframe\">\n",
       "  <thead>\n",
       "    <tr style=\"text-align: right;\">\n",
       "      <th></th>\n",
       "      <th>idf_weights</th>\n",
       "    </tr>\n",
       "  </thead>\n",
       "  <tbody>\n",
       "    <tr>\n",
       "      <th>good</th>\n",
       "      <td>2.501272</td>\n",
       "    </tr>\n",
       "    <tr>\n",
       "      <th>app</th>\n",
       "      <td>2.719946</td>\n",
       "    </tr>\n",
       "    <tr>\n",
       "      <th>application</th>\n",
       "      <td>3.683583</td>\n",
       "    </tr>\n",
       "    <tr>\n",
       "      <th>working</th>\n",
       "      <td>3.734649</td>\n",
       "    </tr>\n",
       "    <tr>\n",
       "      <th>nice</th>\n",
       "      <td>3.807881</td>\n",
       "    </tr>\n",
       "    <tr>\n",
       "      <th>...</th>\n",
       "      <td>...</td>\n",
       "    </tr>\n",
       "    <tr>\n",
       "      <th>electric</th>\n",
       "      <td>9.819148</td>\n",
       "    </tr>\n",
       "    <tr>\n",
       "      <th>elec</th>\n",
       "      <td>9.819148</td>\n",
       "    </tr>\n",
       "    <tr>\n",
       "      <th>orang</th>\n",
       "      <td>9.819148</td>\n",
       "    </tr>\n",
       "    <tr>\n",
       "      <th>ops</th>\n",
       "      <td>9.819148</td>\n",
       "    </tr>\n",
       "    <tr>\n",
       "      <th>zz</th>\n",
       "      <td>9.819148</td>\n",
       "    </tr>\n",
       "  </tbody>\n",
       "</table>\n",
       "<p>5661 rows × 1 columns</p>\n",
       "</div>"
      ],
      "text/plain": [
       "             idf_weights\n",
       "good            2.501272\n",
       "app             2.719946\n",
       "application     3.683583\n",
       "working         3.734649\n",
       "nice            3.807881\n",
       "...                  ...\n",
       "electric        9.819148\n",
       "elec            9.819148\n",
       "orang           9.819148\n",
       "ops             9.819148\n",
       "zz              9.819148\n",
       "\n",
       "[5661 rows x 1 columns]"
      ]
     },
     "execution_count": 62,
     "metadata": {},
     "output_type": "execute_result"
    }
   ],
   "source": [
    "df_idf = pd.DataFrame(tfidf_transformer.idf_, index=cv.get_feature_names(),columns=[\"idf_weights\"])  \n",
    "# sort ascending \n",
    "df_idf.sort_values(by=['idf_weights'])"
   ]
  },
  {
   "cell_type": "code",
   "execution_count": 63,
   "id": "4d9611d7",
   "metadata": {},
   "outputs": [],
   "source": [
    "count_vector=cv.transform(X_train) \n",
    " # tf-idf scores \n",
    "tf_idf_vector=tfidf_transformer.transform(count_vector)"
   ]
  },
  {
   "cell_type": "code",
   "execution_count": 64,
   "id": "cdde98cf",
   "metadata": {
    "scrolled": true
   },
   "outputs": [
    {
     "data": {
      "text/html": [
       "<div>\n",
       "<style scoped>\n",
       "    .dataframe tbody tr th:only-of-type {\n",
       "        vertical-align: middle;\n",
       "    }\n",
       "\n",
       "    .dataframe tbody tr th {\n",
       "        vertical-align: top;\n",
       "    }\n",
       "\n",
       "    .dataframe thead th {\n",
       "        text-align: right;\n",
       "    }\n",
       "</style>\n",
       "<table border=\"1\" class=\"dataframe\">\n",
       "  <thead>\n",
       "    <tr style=\"text-align: right;\">\n",
       "      <th></th>\n",
       "      <th>tfidf</th>\n",
       "    </tr>\n",
       "  </thead>\n",
       "  <tbody>\n",
       "    <tr>\n",
       "      <th>good</th>\n",
       "      <td>1.0</td>\n",
       "    </tr>\n",
       "    <tr>\n",
       "      <th>aa</th>\n",
       "      <td>0.0</td>\n",
       "    </tr>\n",
       "    <tr>\n",
       "      <th>prophet</th>\n",
       "      <td>0.0</td>\n",
       "    </tr>\n",
       "    <tr>\n",
       "      <th>properly</th>\n",
       "      <td>0.0</td>\n",
       "    </tr>\n",
       "    <tr>\n",
       "      <th>proper</th>\n",
       "      <td>0.0</td>\n",
       "    </tr>\n",
       "    <tr>\n",
       "      <th>...</th>\n",
       "      <td>...</td>\n",
       "    </tr>\n",
       "    <tr>\n",
       "      <th>fun</th>\n",
       "      <td>0.0</td>\n",
       "    </tr>\n",
       "    <tr>\n",
       "      <th>fully</th>\n",
       "      <td>0.0</td>\n",
       "    </tr>\n",
       "    <tr>\n",
       "      <th>fullest</th>\n",
       "      <td>0.0</td>\n",
       "    </tr>\n",
       "    <tr>\n",
       "      <th>fulfilled</th>\n",
       "      <td>0.0</td>\n",
       "    </tr>\n",
       "    <tr>\n",
       "      <th>zz</th>\n",
       "      <td>0.0</td>\n",
       "    </tr>\n",
       "  </tbody>\n",
       "</table>\n",
       "<p>5661 rows × 1 columns</p>\n",
       "</div>"
      ],
      "text/plain": [
       "           tfidf\n",
       "good         1.0\n",
       "aa           0.0\n",
       "prophet      0.0\n",
       "properly     0.0\n",
       "proper       0.0\n",
       "...          ...\n",
       "fun          0.0\n",
       "fully        0.0\n",
       "fullest      0.0\n",
       "fulfilled    0.0\n",
       "zz           0.0\n",
       "\n",
       "[5661 rows x 1 columns]"
      ]
     },
     "execution_count": 64,
     "metadata": {},
     "output_type": "execute_result"
    }
   ],
   "source": [
    "feature_names = cv.get_feature_names() \n",
    " #get tfidf vector for first document \n",
    "first_document_vector=tf_idf_vector[0] \n",
    " #print the scores \n",
    "df = pd.DataFrame(first_document_vector.T.todense(), index=feature_names, columns=[\"tfidf\"]) \n",
    "df.sort_values(by=[\"tfidf\"],ascending=False)"
   ]
  },
  {
   "cell_type": "code",
   "execution_count": 65,
   "id": "c502b8e7",
   "metadata": {},
   "outputs": [],
   "source": [
    "df.reset_index(level=0, inplace=True)"
   ]
  },
  {
   "cell_type": "code",
   "execution_count": 66,
   "id": "0071167d",
   "metadata": {},
   "outputs": [
    {
     "data": {
      "text/plain": [
       "0       0.0\n",
       "1       0.0\n",
       "2       0.0\n",
       "3       0.0\n",
       "4       0.0\n",
       "       ... \n",
       "5656    0.0\n",
       "5657    0.0\n",
       "5658    0.0\n",
       "5659    0.0\n",
       "5660    0.0\n",
       "Name: tfidf, Length: 5661, dtype: float64"
      ]
     },
     "execution_count": 66,
     "metadata": {},
     "output_type": "execute_result"
    }
   ],
   "source": [
    "df.tfidf"
   ]
  },
  {
   "cell_type": "code",
   "execution_count": 67,
   "id": "8b18f391",
   "metadata": {},
   "outputs": [],
   "source": [
    "df.rename(columns={'index': 'word',}, inplace=True)"
   ]
  },
  {
   "cell_type": "code",
   "execution_count": 68,
   "id": "9fd02576",
   "metadata": {},
   "outputs": [],
   "source": [
    "X_train_tf, X_test_tf, y_train_tf, y_test_tf = train_test_split(df['word'], df['tfidf'], test_size=0.2,random_state=45)\n",
    "X_train_tf, X_val_tf, y_train_tf, y_val_tf = train_test_split(X_train_tf, y_train_tf, test_size=0.25,random_state=45)"
   ]
  },
  {
   "cell_type": "code",
   "execution_count": 69,
   "id": "b0d93b68",
   "metadata": {},
   "outputs": [],
   "source": [
    "cv_tf = CountVectorizer()\n",
    "X_train_Tf1 = cv.fit_transform(X_train_tf)\n",
    "X_val_Tf1 = cv.transform(X_val_tf)\n",
    "X_test_Tf1 = cv.transform(X_test_tf)"
   ]
  },
  {
   "cell_type": "code",
   "execution_count": 70,
   "id": "793cf93f",
   "metadata": {},
   "outputs": [
    {
     "data": {
      "text/plain": [
       "3200    0.0\n",
       "2852    0.0\n",
       "530     0.0\n",
       "3505    0.0\n",
       "3049    0.0\n",
       "       ... \n",
       "2892    0.0\n",
       "377     0.0\n",
       "412     0.0\n",
       "4907    0.0\n",
       "202     0.0\n",
       "Name: tfidf, Length: 3396, dtype: float64"
      ]
     },
     "execution_count": 70,
     "metadata": {},
     "output_type": "execute_result"
    }
   ],
   "source": [
    "y_train_tf"
   ]
  },
  {
   "cell_type": "code",
   "execution_count": 71,
   "id": "793d7f2d",
   "metadata": {},
   "outputs": [
    {
     "data": {
      "text/plain": [
       "0       0.0\n",
       "1       0.0\n",
       "2       0.0\n",
       "3       0.0\n",
       "4       0.0\n",
       "       ... \n",
       "5656    0.0\n",
       "5657    0.0\n",
       "5658    0.0\n",
       "5659    0.0\n",
       "5660    0.0\n",
       "Name: tfidf, Length: 5661, dtype: float64"
      ]
     },
     "execution_count": 71,
     "metadata": {},
     "output_type": "execute_result"
    }
   ],
   "source": [
    "df.tfidf"
   ]
  },
  {
   "cell_type": "code",
   "execution_count": 72,
   "id": "b55491a1",
   "metadata": {},
   "outputs": [
    {
     "data": {
      "text/plain": [
       "<3396x3396 sparse matrix of type '<class 'numpy.int64'>'\n",
       "\twith 3396 stored elements in Compressed Sparse Row format>"
      ]
     },
     "execution_count": 72,
     "metadata": {},
     "output_type": "execute_result"
    }
   ],
   "source": [
    "X_train_Tf1"
   ]
  },
  {
   "cell_type": "code",
   "execution_count": 73,
   "id": "2a21c2e8",
   "metadata": {},
   "outputs": [],
   "source": [
    "# lr.fit(X_train_Tf1, y_train)"
   ]
  },
  {
   "cell_type": "code",
   "execution_count": null,
   "id": "4a84cd03",
   "metadata": {},
   "outputs": [],
   "source": []
  },
  {
   "cell_type": "code",
   "execution_count": null,
   "id": "77dae84e",
   "metadata": {},
   "outputs": [],
   "source": []
  },
  {
   "cell_type": "code",
   "execution_count": 74,
   "id": "756ff344",
   "metadata": {},
   "outputs": [],
   "source": [
    "from sklearn.tree import DecisionTreeRegressor\n",
    "import xgboost as xgb\n",
    "from sklearn.ensemble import RandomForestClassifier"
   ]
  },
  {
   "cell_type": "code",
   "execution_count": 138,
   "id": "5d6f65f4",
   "metadata": {
    "scrolled": true
   },
   "outputs": [
    {
     "data": {
      "text/plain": [
       "RandomForestClassifier(n_estimators=200)"
      ]
     },
     "execution_count": 138,
     "metadata": {},
     "output_type": "execute_result"
    }
   ],
   "source": [
    "rf = RandomForestClassifier(n_estimators=200)\n",
    "rf.fit(X_train_T,y_train)"
   ]
  },
  {
   "cell_type": "code",
   "execution_count": 139,
   "id": "35837c6e",
   "metadata": {},
   "outputs": [
    {
     "data": {
      "text/plain": [
       "0.9392191659272404"
      ]
     },
     "execution_count": 139,
     "metadata": {},
     "output_type": "execute_result"
    }
   ],
   "source": [
    "accuracy_score(y_train,rf.predict(X_train_T))"
   ]
  },
  {
   "cell_type": "code",
   "execution_count": 140,
   "id": "47695e4d",
   "metadata": {},
   "outputs": [
    {
     "name": "stdout",
     "output_type": "stream",
     "text": [
      "Accuracy Train = 0.93922\n",
      "Accuracy Val = 0.84098\n",
      "Accuracy Test = 0.83433\n",
      "-------------------------\n",
      "F1 Train = 0.93662\n",
      "F1 Val = 0.82957\n",
      "F1 Test = 0.82972\n",
      "-------------------------\n",
      "recall Train = 0.90065\n",
      "recall Val = 0.78498\n",
      "recall Test = 0.78993\n",
      "-------------------------\n",
      "precision Train = 0.97559\n",
      "precision Val = 0.87954\n",
      "precision Test = 0.87374\n",
      "-------------------------\n",
      "F2 Train = 0.91470\n",
      "F2 Val = 0.80223\n",
      "F2 Test = 0.80538\n"
     ]
    }
   ],
   "source": [
    "# LogisticRegression #Accuracy\n",
    "print(\"Accuracy Train = {:6.5f}\".format(accuracy_score(y_train, rf.predict(X_train_T))))\n",
    "print(\"Accuracy Val = {:6.5f}\".format(accuracy_score(y_val, rf.predict(X_val_T))))\n",
    "print(\"Accuracy Test = {:6.5f}\".format(accuracy_score(y_test, rf.predict(X_test_T))))\n",
    "print(\"-------------------------\")\n",
    "# LogisticRegression F1\n",
    "print(\"F1 Train = {:6.5f}\".format(f1_score(y_train, rf.predict(X_train_T))))\n",
    "print(\"F1 Val = {:6.5f}\".format(f1_score(y_val, rf.predict(X_val_T))))\n",
    "print(\"F1 Test = {:6.5f}\".format(f1_score(y_test, rf.predict(X_test_T))))\n",
    "print(\"-------------------------\")\n",
    "print(\"recall Train = {:6.5f}\".format(recall_score(y_train, rf.predict(X_train_T))))\n",
    "print(\"recall Val = {:6.5f}\".format(recall_score(y_val, rf.predict(X_val_T))))\n",
    "print(\"recall Test = {:6.5f}\".format(recall_score(y_test, rf.predict(X_test_T))))\n",
    "print(\"-------------------------\")\n",
    "print(\"precision Train = {:6.5f}\".format(precision_score(y_train, rf.predict(X_train_T))))\n",
    "print(\"precision Val = {:6.5f}\".format(precision_score(y_val, rf.predict(X_val_T))))\n",
    "print(\"precision Test = {:6.5f}\".format(precision_score(y_test, rf.predict(X_test_T))))\n",
    "print(\"-------------------------\")\n",
    "print(\"F2 Train = {:6.5f}\".format(fbeta_score(y_train, rf.predict(X_train_T),beta=2)))\n",
    "print(\"F2 Val = {:6.5f}\".format(fbeta_score(y_val, rf.predict(X_val_T),beta=2)))\n",
    "print(\"F2 Test = {:6.5f}\".format(fbeta_score(y_test, rf.predict(X_test_T),beta=2)))"
   ]
  },
  {
   "cell_type": "code",
   "execution_count": 137,
   "id": "70e18b9f",
   "metadata": {},
   "outputs": [
    {
     "data": {
      "text/plain": [
       "array([[1959,  246],\n",
       "       [ 532, 1772]], dtype=int64)"
      ]
     },
     "execution_count": 137,
     "metadata": {},
     "output_type": "execute_result"
    }
   ],
   "source": [
    "from sklearn import metrics\n",
    "cnf_matrix = metrics.confusion_matrix(y_test, rf.predict(X_test_T))\n",
    "cnf_matrix"
   ]
  },
  {
   "cell_type": "code",
   "execution_count": 80,
   "id": "2588a842",
   "metadata": {},
   "outputs": [
    {
     "data": {
      "image/png": "[encoded data removed]",
      "text/plain": [
       "<Figure size 432x288 with 1 Axes>"
      ]
     },
     "metadata": {},
     "output_type": "display_data"
    },
    {
     "data": {
      "image/png": "[encoded data removed]",
      "text/plain": [
       "<Figure size 720x288 with 2 Axes>"
      ]
     },
     "metadata": {},
     "output_type": "display_data"
    }
   ],
   "source": [
    "class_names=[1,0] # name  of classes\n",
    "# fig, ax = plt.subplots()\n",
    "tick_marks = np.arange(len(class_names))\n",
    "plt.xticks(tick_marks, class_names)\n",
    "plt.yticks(tick_marks, class_names)\n",
    "######## create heatmap\n",
    "plt.figure(figsize = [10,4])\n",
    "sns.heatmap(pd.DataFrame(cnf_matrix), annot=True, cmap='Greens' ,fmt='g')\n",
    "# ax.xaxis.set_label_position(\"top\")\n",
    "plt.tight_layout()\n",
    "plt.title('Confusion matrix', fontsize = 14, weight = 'bold',y=1.1)\n",
    "plt.ylabel('Actual ',fontsize = 14, weight = 'bold')\n",
    "plt.xlabel('Predicted ',fontsize = 14, weight = 'bold')\n",
    "sns.set_style(\"whitegrid\")\n",
    "\n"
   ]
  },
  {
   "cell_type": "code",
   "execution_count": 81,
   "id": "6e26bfbc",
   "metadata": {},
   "outputs": [
    {
     "name": "stdout",
     "output_type": "stream",
     "text": [
      "auc_train = 0.88991\n",
      "auc_val =0.88051\n",
      "auc_test = 0.87977\n"
     ]
    },
    {
     "data": {
      "image/png": "[encoded data removed]",
      "text/plain": [
       "<Figure size 720x576 with 1 Axes>"
      ]
     },
     "metadata": {},
     "output_type": "display_data"
    }
   ],
   "source": [
    "plt.figure(figsize = [10,8])\n",
    "y_pred_proba = rf.predict_proba(X_train_T)[::,1]\n",
    "fpr, tpr, _ = metrics.roc_curve(y_train,  y_pred_proba)\n",
    "auc = metrics.roc_auc_score(y_train, y_pred_proba)\n",
    "print(\"auc_train = {:6.5f}\".format(auc))\n",
    "plt.plot(fpr,tpr,label=\"train, auc=\"+str(auc))\n",
    "plt.legend(loc=4)\n",
    "\n",
    "\n",
    "y_pred_proba_val = rf.predict_proba(X_val_T)[::,1]\n",
    "fpr_val, tpr_val, _val = metrics.roc_curve(y_val,  y_pred_proba_val)\n",
    "auc_val = metrics.roc_auc_score(y_val, y_pred_proba_val)\n",
    "print(\"auc_val ={:6.5f}\".format(auc_val))\n",
    "plt.plot(fpr_val,tpr_val,label=\"val, auc=\"+str(auc_val))\n",
    "plt.legend(loc=4)\n",
    "\n",
    "\n",
    "y_pred_proba_test = rf.predict_proba(X_test_T)[::,1]\n",
    "fpr_test, tpr_test, _test = metrics.roc_curve(y_test,  y_pred_proba_test)\n",
    "auc_test = metrics.roc_auc_score(y_test, y_pred_proba_test)\n",
    "print(\"auc_test = {:6.5f}\".format(auc_test))\n",
    "plt.plot(fpr_test,tpr_test,label=\"test, auc= \"+str(auc_test))\n",
    "plt.legend(loc=4)\n",
    "\n",
    "plt.title('Roc Auc Score for Random Forest Classifier ', fontsize = 20, weight = 'bold')\n",
    "plt.xlabel('False Positive Rate',fontsize = 14, weight = 'bold')\n",
    "plt.ylabel('True Positive Rate', fontsize = 14, weight = 'bold')\n",
    "sns.set_style(\"whitegrid\")\n",
    "\n"
   ]
  },
  {
   "cell_type": "code",
   "execution_count": 82,
   "id": "58e714b7",
   "metadata": {},
   "outputs": [
    {
     "name": "stdout",
     "output_type": "stream",
     "text": [
      "Accuracy: 0.7957418496340652\n",
      "Precision: 0.9008695652173913\n",
      "Recall: 0.6744791666666666\n"
     ]
    }
   ],
   "source": [
    "print(\"Accuracy:\",metrics.accuracy_score(y_test, rf.predict(X_test_T)))\n",
    "print(\"Precision:\",metrics.precision_score(y_test, rf.predict(X_test_T)))\n",
    "print(\"Recall:\",metrics.recall_score(y_test, rf.predict(X_test_T)))"
   ]
  },
  {
   "cell_type": "code",
   "execution_count": 83,
   "id": "8a8e5f89",
   "metadata": {},
   "outputs": [],
   "source": [
    "from sklearn.neighbors import KNeighborsClassifier"
   ]
  },
  {
   "cell_type": "code",
   "execution_count": 84,
   "id": "8f38a67a",
   "metadata": {},
   "outputs": [
    {
     "name": "stdout",
     "output_type": "stream",
     "text": [
      "The score for kNN is\n",
      "Training:  84.38%\n",
      "Test set:  80.62%\n"
     ]
    }
   ],
   "source": [
    "knn = KNeighborsClassifier(n_neighbors=5)\n",
    "knn.fit(X_train_T, y_train)\n",
    "print(\"The score for kNN is\")\n",
    "print(\"Training: {:6.2f}%\".format(100*knn.score(X_train_T, y_train)))\n",
    "print(\"Test set: {:6.2f}%\".format(100*knn.score(X_test_T, y_test)))"
   ]
  },
  {
   "cell_type": "code",
   "execution_count": 85,
   "id": "d72eee70",
   "metadata": {},
   "outputs": [],
   "source": [
    "from sklearn.metrics import confusion_matrix"
   ]
  },
  {
   "cell_type": "code",
   "execution_count": 86,
   "id": "1b2c029a",
   "metadata": {},
   "outputs": [
    {
     "name": "stdout",
     "output_type": "stream",
     "text": [
      "kNN confusion matrix: \n",
      "\n",
      " [[1852  353]\n",
      " [ 521 1783]]\n"
     ]
    }
   ],
   "source": [
    "print(\"kNN confusion matrix: \\n\\n\", confusion_matrix(y_test, knn.predict(X_test_T)))"
   ]
  },
  {
   "cell_type": "code",
   "execution_count": 87,
   "id": "d8f5e7c5",
   "metadata": {},
   "outputs": [
    {
     "data": {
      "image/png": "[encoded data removed]",
      "text/plain": [
       "<Figure size 480x320 with 1 Axes>"
      ]
     },
     "metadata": {},
     "output_type": "display_data"
    }
   ],
   "source": [
    "precision_curve, recall_curve, threshold_curve = precision_recall_curve(y_test, lr.predict_proba(X_test_T)[:,1] )\n",
    "\n",
    "plt.figure(dpi=80)\n",
    "plt.plot(threshold_curve, precision_curve[1:],c='green',label='precision')\n",
    "plt.plot(threshold_curve, recall_curve[1:],c='black', label='recall')\n",
    "plt.legend(loc='lower left')\n",
    "plt.xlabel('Threshold (above this probability, label as fraud)');\n",
    "plt.title('Precision and Recall Curves');"
   ]
  },
  {
   "cell_type": "code",
   "execution_count": 88,
   "id": "2baf4e9b",
   "metadata": {},
   "outputs": [
    {
     "data": {
      "image/png": "[encoded data removed]",
      "text/plain": [
       "<Figure size 480x320 with 1 Axes>"
      ]
     },
     "metadata": {},
     "output_type": "display_data"
    }
   ],
   "source": [
    "plt.figure(dpi=80)\n",
    "plt.plot(recall_curve[1:], precision_curve[1:],c='green',label='precision')\n",
    "plt.xlabel(\"Recall\")\n",
    "plt.ylabel(\"Precision\")\n",
    "plt.title(\"Precision-Recall Curve\");"
   ]
  },
  {
   "cell_type": "code",
   "execution_count": 89,
   "id": "edfad02d",
   "metadata": {},
   "outputs": [
    {
     "name": "stdout",
     "output_type": "stream",
     "text": [
      "ROC AUC score =  0.9052795886873268\n"
     ]
    },
    {
     "data": {
      "image/png": "[encoded data removed]",
      "text/plain": [
       "<Figure size 432x288 with 1 Axes>"
      ]
     },
     "metadata": {},
     "output_type": "display_data"
    }
   ],
   "source": [
    "plt.plot(fpr, tpr,c=\"green\",lw=2)\n",
    "plt.plot([0,1],[0,1],c='black',ls='-')\n",
    "plt.xlim([-0.05,1.05])\n",
    "plt.ylim([-0.05,1.05])\n",
    "\n",
    "\n",
    "plt.xlabel('False positive rate')\n",
    "plt.ylabel('True positive rate')\n",
    "plt.title('ROC curve');\n",
    "print(\"ROC AUC score = \", roc_auc_score(y_test, lr.predict_proba(X_test_T)[:,1]))"
   ]
  },
  {
   "cell_type": "code",
   "execution_count": 90,
   "id": "7e89fa36",
   "metadata": {},
   "outputs": [],
   "source": [
    "# xgb.plot_importance(gbm)\n",
    "# xgb.plot_importance(gbm, importance_type='gain')"
   ]
  },
  {
   "cell_type": "code",
   "execution_count": 91,
   "id": "3b1817a2",
   "metadata": {},
   "outputs": [],
   "source": [
    "# gbm.get_booster().get_score(importance_type='weight')"
   ]
  },
  {
   "cell_type": "code",
   "execution_count": 92,
   "id": "13590ee2",
   "metadata": {},
   "outputs": [],
   "source": [
    "# gbm.get_booster().get_score(importance_type='gain')"
   ]
  },
  {
   "cell_type": "code",
   "execution_count": 93,
   "id": "1c1774e2",
   "metadata": {},
   "outputs": [
    {
     "name": "stderr",
     "output_type": "stream",
     "text": [
      "C:\\Users\\Fahad-MSi\\anaconda3\\lib\\site-packages\\xgboost\\sklearn.py:1146: UserWarning: The use of label encoder in XGBClassifier is deprecated and will be removed in a future release. To remove this warning, do the following: 1) Pass option use_label_encoder=False when constructing XGBClassifier object; and 2) Encode your labels (y) as integers starting with 0, i.e. 0, 1, 2, ..., [num_class - 1].\n",
      "  warnings.warn(label_encoder_deprecation_msg, UserWarning)\n"
     ]
    }
   ],
   "source": [
    "gbm = xgb.XGBClassifier( \n",
    "                        n_estimators=30000,\n",
    "                        max_depth=4,\n",
    "                        objective='binary:logistic', #new objective\n",
    "                        learning_rate=.05, \n",
    "                        subsample=.8,\n",
    "                        min_child_weight=3,\n",
    "                        colsample_bytree=.8\n",
    "                       )\n",
    "\n",
    "eval_set=[(X_train_T,y_train),(X_val_T,y_val)]\n",
    "fit_model = gbm.fit( \n",
    "                    X_train_T, y_train, \n",
    "                    eval_set=eval_set,\n",
    "                    eval_metric='error', #new evaluation metric: classification error (could also use AUC, e.g.)\n",
    "                    early_stopping_rounds=50,\n",
    "                    verbose=False\n",
    "                   )\n",
    "\n",
    "# accuracy_score(y_test, gbm.predict(X_test_T, ntree_limit=gbm.best_ntree_limit)) "
   ]
  },
  {
   "cell_type": "code",
   "execution_count": 94,
   "id": "075326bf",
   "metadata": {},
   "outputs": [
    {
     "name": "stderr",
     "output_type": "stream",
     "text": [
      "C:\\Users\\Fahad-MSi\\anaconda3\\lib\\site-packages\\xgboost\\core.py:101: UserWarning: ntree_limit is deprecated, use `iteration_range` or model slicing instead.\n",
      "  warnings.warn(\n",
      "C:\\Users\\Fahad-MSi\\anaconda3\\lib\\site-packages\\xgboost\\core.py:101: UserWarning: ntree_limit is deprecated, use `iteration_range` or model slicing instead.\n",
      "  warnings.warn(\n"
     ]
    },
    {
     "name": "stdout",
     "output_type": "stream",
     "text": [
      "XGB Accuracy Train =  0.8325199645075422\n",
      "XGB Accuracy Val =  0.8236859614105123\n",
      "XGB Accuracy Test =  0.8205810601020181\n",
      "----------------------\n",
      "XGB F1 Train =  0.8407285001054778\n",
      "XGB F1 Val =  0.8303094983991464\n",
      "XGB F1 Test =  0.8338467857876362\n"
     ]
    },
    {
     "name": "stderr",
     "output_type": "stream",
     "text": [
      "C:\\Users\\Fahad-MSi\\anaconda3\\lib\\site-packages\\xgboost\\core.py:101: UserWarning: ntree_limit is deprecated, use `iteration_range` or model slicing instead.\n",
      "  warnings.warn(\n",
      "C:\\Users\\Fahad-MSi\\anaconda3\\lib\\site-packages\\xgboost\\core.py:101: UserWarning: ntree_limit is deprecated, use `iteration_range` or model slicing instead.\n",
      "  warnings.warn(\n",
      "C:\\Users\\Fahad-MSi\\anaconda3\\lib\\site-packages\\xgboost\\core.py:101: UserWarning: ntree_limit is deprecated, use `iteration_range` or model slicing instead.\n",
      "  warnings.warn(\n",
      "C:\\Users\\Fahad-MSi\\anaconda3\\lib\\site-packages\\xgboost\\core.py:101: UserWarning: ntree_limit is deprecated, use `iteration_range` or model slicing instead.\n",
      "  warnings.warn(\n"
     ]
    }
   ],
   "source": [
    "print(\"XGB Accuracy Train = \",accuracy_score(y_train, gbm.predict(X_train_T, ntree_limit=gbm.best_ntree_limit)))\n",
    "print(\"XGB Accuracy Val = \",accuracy_score(y_val, gbm.predict(X_val_T, ntree_limit=gbm.best_ntree_limit))) \n",
    "print(\"XGB Accuracy Test = \",accuracy_score(y_test, gbm.predict(X_test_T, ntree_limit=gbm.best_ntree_limit))) \n",
    "print(\"----------------------\")\n",
    "print(\"XGB F1 Train = \",f1_score(y_train, gbm.predict(X_train_T, ntree_limit=gbm.best_ntree_limit)))\n",
    "print(\"XGB F1 Val = \",f1_score(y_val, gbm.predict(X_val_T, ntree_limit=gbm.best_ntree_limit))) \n",
    "print(\"XGB F1 Test = \",f1_score(y_test, gbm.predict(X_test_T, ntree_limit=gbm.best_ntree_limit))) "
   ]
  },
  {
   "cell_type": "code",
   "execution_count": null,
   "id": "4b558dca",
   "metadata": {},
   "outputs": [],
   "source": []
  }
 ],
 "metadata": {
  "kernelspec": {
   "display_name": "Python 3",
   "language": "python",
   "name": "python3"
  },
  "language_info": {
   "codemirror_mode": {
    "name": "ipython",
    "version": 3
   },
   "file_extension": ".py",
   "mimetype": "text/x-python",
   "name": "python",
   "nbconvert_exporter": "python",
   "pygments_lexer": "ipython3",
   "version": "3.8.8"
  }
 },
 "nbformat": 4,
 "nbformat_minor": 5
}
